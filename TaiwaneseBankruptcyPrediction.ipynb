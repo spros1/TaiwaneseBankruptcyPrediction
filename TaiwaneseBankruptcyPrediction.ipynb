{
  "nbformat": 4,
  "nbformat_minor": 0,
  "metadata": {
    "colab": {
      "name": "TaiwaneseBankruptcyPrediction.ipynb",
      "provenance": [],
      "collapsed_sections": [],
      "authorship_tag": "ABX9TyPpKpCZ4lUEXqxgZeYpWPQK",
      "include_colab_link": true
    },
    "kernelspec": {
      "name": "python3",
      "display_name": "Python 3"
    },
    "language_info": {
      "name": "python"
    }
  },
  "cells": [
    {
      "cell_type": "markdown",
      "metadata": {
        "id": "view-in-github",
        "colab_type": "text"
      },
      "source": [
        "<a href=\"https://colab.research.google.com/github/spros1/TaiwaneseBankruptcyPrediction/blob/main/TaiwaneseBankruptcyPrediction.ipynb\" target=\"_parent\"><img src=\"https://colab.research.google.com/assets/colab-badge.svg\" alt=\"Open In Colab\"/></a>"
      ]
    },
    {
      "cell_type": "markdown",
      "source": [
        "#Taiwanese Bankruptcy Prediction"
      ],
      "metadata": {
        "id": "qRkgrsDyMymY"
      }
    },
    {
      "cell_type": "markdown",
      "source": [
        "## About the dataset :\n",
        "The data were collected from the Taiwan Economic Journal for the years 1999 to 2009. Company bankruptcy was defined based on the business regulations of the Taiwan Stock Exchange.\n",
        "\n",
        "*   Number of Instances : 6819 \n",
        "*   Number of Features  : 96\n",
        "*   Output Feature      : Bankrupt?"
      ],
      "metadata": {
        "id": "Zm-XXvpdM-O9"
      }
    },
    {
      "cell_type": "code",
      "source": [
        ""
      ],
      "metadata": {
        "id": "K_INAebBNJ9D"
      },
      "execution_count": null,
      "outputs": []
    },
    {
      "cell_type": "code",
      "source": [
        ""
      ],
      "metadata": {
        "id": "OCfRznkNNDIU"
      },
      "execution_count": null,
      "outputs": []
    },
    {
      "cell_type": "code",
      "execution_count": null,
      "metadata": {
        "id": "VXbFs6lMK64_"
      },
      "outputs": [],
      "source": [
        ""
      ]
    }
  ]
}